{
 "cells": [
  {
   "cell_type": "code",
   "execution_count": 87,
   "id": "3e75a649",
   "metadata": {},
   "outputs": [],
   "source": [
    "import pandas as pd\n",
    "import numpy as np\n",
    "from sklearn.metrics import fbeta_score, precision_score, recall_score, accuracy_score, multilabel_confusion_matrix\n",
    "\n",
    "\n",
    "# 71 класс SCP_ECG в алфавитном порядке\n",
    "labels = ['1AVB', '2AVB', '3AVB', 'ABQRS', 'AFIB', 'AFLT', \n",
    "          'ALMI', 'AMI', 'ANEUR', 'ASMI', 'BIGU', 'CLBBB', \n",
    "          'CRBBB', 'DIG', 'EL', 'HVOLT', 'ILBBB', 'ILMI', \n",
    "          'IMI', 'INJAL', 'INJAS', 'INJIL', 'INJIN','INJLA', \n",
    "          'INVT', 'IPLMI', 'IPMI', 'IRBBB', 'ISC_', 'ISCAL', \n",
    "          'ISCAN', 'ISCAS', 'ISCIL', 'ISCIN', 'ISCLA', 'IVCD', \n",
    "          'LAFB', 'LAO/LAE', 'LMI', 'LNGQT', 'LOWT', 'LPFB', \n",
    "          'LPR', 'LVH', 'LVOLT', 'NDT', 'NORM', 'NST_', \n",
    "          'NT_', 'PAC', 'PACE', 'PMI', 'PRC(S)', 'PSVT', \n",
    "          'PVC', 'QWAVE', 'RAO/RAE', 'RVH', 'SARRH', 'SBRAD', \n",
    "          'SEHYP', 'SR', 'STACH', 'STD_', 'STE_', 'SVARR', \n",
    "          'SVTAC', 'TAB_', 'TRIGU', 'VCLVH', 'WPW']"
   ]
  },
  {
   "cell_type": "code",
   "execution_count": 108,
   "id": "ce98a540",
   "metadata": {},
   "outputs": [],
   "source": [
    "# Подсчет метрик f1, f2, g1 и g2 (где 1 и 2 значения параметра beta) для каждого класса в задаче многозначной классификации (multilabel classication)\n",
    "def calc_metrics(y_true, y_pred, thresholds, labels): \n",
    "  num_classes = y_true.shape[1] # n x m, где m - количество классов (применялось one-hot кодирование)\n",
    "  table_scores = pd.DataFrame({'label': labels[:num_classes], \n",
    "                               'f1': pd.Series([]), \n",
    "                               'f2': pd.Series([]), \n",
    "                               'g1': pd.Series([]), \n",
    "                               'g2': pd.Series([])}, index = range(1, num_classes + 1))\n",
    "    \n",
    "  for i, conf_matr in enumerate(multilabel_confusion_matrix(y_true, y_pred > thresholds)):\n",
    "    \n",
    "    label_index = i + 1 # i + 1, потому что в table_scores индексация начинается с 1                            \n",
    "    true = y_true[:, i]\n",
    "    pred = y_pred[:, i]\n",
    "    table_scores.loc[label_index, 'f1'] = fbeta_score(true, pred > thresholds[i], beta = 1) \n",
    "    table_scores.loc[label_index, 'f2'] = fbeta_score(true, pred > thresholds[i], beta = 2)\n",
    "                                \n",
    "    TP = conf_matr[1, 1]\n",
    "    FP = conf_matr[0, 1]\n",
    "    TN = conf_matr[0, 0]\n",
    "    FN = conf_matr[1, 0]                        \n",
    "    beta = 1\n",
    "    g1 = TP/(TP + FP + beta * FN) # beta = 1\n",
    "    beta = 2\n",
    "    g2 = TP/(TP + FP + beta * FN) # beta = 2\n",
    "    table_scores.loc[label_index, 'g1'] = g1\n",
    "    table_scores.loc[label_index, 'g2'] = g2\n",
    "                                \n",
    "  return table_scores"
   ]
  },
  {
   "cell_type": "code",
   "execution_count": 109,
   "id": "bfff58ab",
   "metadata": {},
   "outputs": [],
   "source": [
    "y_test = np.array([[1, 0, 1],\n",
    "                   [0, 1, 0],\n",
    "                   [1, 1, 0]])\n",
    "\n",
    "y_pred = np.array([[0.8, 0.6, 0.3],\n",
    "                   [0.4, 0.7, 0.9],\n",
    "                   [0.2, 0.5, 0.6]])\n",
    "\n",
    "lstm_thresholds = np.array([0.5, 0.6, 0.4])"
   ]
  },
  {
   "cell_type": "code",
   "execution_count": 110,
   "id": "7be0d89e",
   "metadata": {},
   "outputs": [
    {
     "name": "stderr",
     "output_type": "stream",
     "text": [
      "C:\\Users\\manuk\\AppData\\Local\\Temp\\ipykernel_11408\\3998807189.py:5: FutureWarning: The default dtype for empty Series will be 'object' instead of 'float64' in a future version. Specify a dtype explicitly to silence this warning.\n",
      "  'f1': pd.Series([]),\n",
      "C:\\Users\\manuk\\AppData\\Local\\Temp\\ipykernel_11408\\3998807189.py:6: FutureWarning: The default dtype for empty Series will be 'object' instead of 'float64' in a future version. Specify a dtype explicitly to silence this warning.\n",
      "  'f2': pd.Series([]),\n",
      "C:\\Users\\manuk\\AppData\\Local\\Temp\\ipykernel_11408\\3998807189.py:7: FutureWarning: The default dtype for empty Series will be 'object' instead of 'float64' in a future version. Specify a dtype explicitly to silence this warning.\n",
      "  'g1': pd.Series([]),\n",
      "C:\\Users\\manuk\\AppData\\Local\\Temp\\ipykernel_11408\\3998807189.py:8: FutureWarning: The default dtype for empty Series will be 'object' instead of 'float64' in a future version. Specify a dtype explicitly to silence this warning.\n",
      "  'g2': pd.Series([])}, index = range(1, num_classes + 1))\n"
     ]
    }
   ],
   "source": [
    "table = calc_metrics(y_test, y_pred, lstm_thresholds, labels)"
   ]
  },
  {
   "cell_type": "code",
   "execution_count": 111,
   "id": "a04bb78d",
   "metadata": {},
   "outputs": [
    {
     "data": {
      "text/html": [
       "<div>\n",
       "<style scoped>\n",
       "    .dataframe tbody tr th:only-of-type {\n",
       "        vertical-align: middle;\n",
       "    }\n",
       "\n",
       "    .dataframe tbody tr th {\n",
       "        vertical-align: top;\n",
       "    }\n",
       "\n",
       "    .dataframe thead th {\n",
       "        text-align: right;\n",
       "    }\n",
       "</style>\n",
       "<table border=\"1\" class=\"dataframe\">\n",
       "  <thead>\n",
       "    <tr style=\"text-align: right;\">\n",
       "      <th></th>\n",
       "      <th>label</th>\n",
       "      <th>f1</th>\n",
       "      <th>f2</th>\n",
       "      <th>g1</th>\n",
       "      <th>g2</th>\n",
       "    </tr>\n",
       "  </thead>\n",
       "  <tbody>\n",
       "    <tr>\n",
       "      <th>1</th>\n",
       "      <td>1AVB</td>\n",
       "      <td>0.666667</td>\n",
       "      <td>0.555556</td>\n",
       "      <td>0.5</td>\n",
       "      <td>0.333333</td>\n",
       "    </tr>\n",
       "    <tr>\n",
       "      <th>2</th>\n",
       "      <td>2AVB</td>\n",
       "      <td>0.666667</td>\n",
       "      <td>0.555556</td>\n",
       "      <td>0.5</td>\n",
       "      <td>0.333333</td>\n",
       "    </tr>\n",
       "    <tr>\n",
       "      <th>3</th>\n",
       "      <td>3AVB</td>\n",
       "      <td>0.000000</td>\n",
       "      <td>0.000000</td>\n",
       "      <td>0.0</td>\n",
       "      <td>0.000000</td>\n",
       "    </tr>\n",
       "  </tbody>\n",
       "</table>\n",
       "</div>"
      ],
      "text/plain": [
       "  label        f1        f2   g1        g2\n",
       "1  1AVB  0.666667  0.555556  0.5  0.333333\n",
       "2  2AVB  0.666667  0.555556  0.5  0.333333\n",
       "3  3AVB  0.000000  0.000000  0.0  0.000000"
      ]
     },
     "execution_count": 111,
     "metadata": {},
     "output_type": "execute_result"
    }
   ],
   "source": [
    "table"
   ]
  },
  {
   "cell_type": "code",
   "execution_count": 66,
   "id": "a5e142b5",
   "metadata": {},
   "outputs": [
    {
     "data": {
      "text/plain": [
       "label    1AVB\n",
       "f1        NaN\n",
       "f2        NaN\n",
       "g1        NaN\n",
       "g2        NaN\n",
       "Name: 1, dtype: object"
      ]
     },
     "execution_count": 66,
     "metadata": {},
     "output_type": "execute_result"
    }
   ],
   "source": [
    "table.loc[1] # вернуть строку по названию индекса (в данном случае индекс это номер класса, начиная с 1)"
   ]
  },
  {
   "cell_type": "code",
   "execution_count": 67,
   "id": "342230f0",
   "metadata": {},
   "outputs": [
    {
     "data": {
      "text/html": [
       "<div>\n",
       "<style scoped>\n",
       "    .dataframe tbody tr th:only-of-type {\n",
       "        vertical-align: middle;\n",
       "    }\n",
       "\n",
       "    .dataframe tbody tr th {\n",
       "        vertical-align: top;\n",
       "    }\n",
       "\n",
       "    .dataframe thead th {\n",
       "        text-align: right;\n",
       "    }\n",
       "</style>\n",
       "<table border=\"1\" class=\"dataframe\">\n",
       "  <thead>\n",
       "    <tr style=\"text-align: right;\">\n",
       "      <th></th>\n",
       "      <th>label</th>\n",
       "      <th>f1</th>\n",
       "      <th>f2</th>\n",
       "      <th>g1</th>\n",
       "      <th>g2</th>\n",
       "    </tr>\n",
       "  </thead>\n",
       "  <tbody>\n",
       "    <tr>\n",
       "      <th>1</th>\n",
       "      <td>1AVB</td>\n",
       "      <td>NaN</td>\n",
       "      <td>NaN</td>\n",
       "      <td>NaN</td>\n",
       "      <td>NaN</td>\n",
       "    </tr>\n",
       "    <tr>\n",
       "      <th>2</th>\n",
       "      <td>2AVB</td>\n",
       "      <td>NaN</td>\n",
       "      <td>NaN</td>\n",
       "      <td>NaN</td>\n",
       "      <td>NaN</td>\n",
       "    </tr>\n",
       "  </tbody>\n",
       "</table>\n",
       "</div>"
      ],
      "text/plain": [
       "  label  f1  f2  g1  g2\n",
       "1  1AVB NaN NaN NaN NaN\n",
       "2  2AVB NaN NaN NaN NaN"
      ]
     },
     "execution_count": 67,
     "metadata": {},
     "output_type": "execute_result"
    }
   ],
   "source": [
    "table.loc[[1, 2]]"
   ]
  },
  {
   "cell_type": "code",
   "execution_count": 68,
   "id": "6c688346",
   "metadata": {},
   "outputs": [
    {
     "data": {
      "text/plain": [
       "label    1AVB\n",
       "f1        NaN\n",
       "f2        NaN\n",
       "g1        NaN\n",
       "g2        NaN\n",
       "Name: 1, dtype: object"
      ]
     },
     "execution_count": 68,
     "metadata": {},
     "output_type": "execute_result"
    }
   ],
   "source": [
    "table.iloc[0] # вернуть строку по номеру индекса (начиная с 0)"
   ]
  },
  {
   "cell_type": "code",
   "execution_count": 76,
   "id": "ca220afa",
   "metadata": {},
   "outputs": [
    {
     "data": {
      "text/plain": [
       "1    NaN\n",
       "2    NaN\n",
       "3    NaN\n",
       "4    NaN\n",
       "5    NaN\n",
       "      ..\n",
       "67   NaN\n",
       "68   NaN\n",
       "69   NaN\n",
       "70   NaN\n",
       "71   NaN\n",
       "Name: f1, Length: 71, dtype: float64"
      ]
     },
     "execution_count": 76,
     "metadata": {},
     "output_type": "execute_result"
    }
   ],
   "source": [
    "table['f1']"
   ]
  },
  {
   "cell_type": "code",
   "execution_count": 77,
   "id": "7a8dc1bc",
   "metadata": {},
   "outputs": [
    {
     "data": {
      "text/plain": [
       "nan"
      ]
     },
     "execution_count": 77,
     "metadata": {},
     "output_type": "execute_result"
    }
   ],
   "source": [
    "table['f1'].loc[1]"
   ]
  },
  {
   "cell_type": "code",
   "execution_count": 80,
   "id": "7a522792",
   "metadata": {},
   "outputs": [
    {
     "data": {
      "text/plain": [
       "1.0"
      ]
     },
     "execution_count": 80,
     "metadata": {},
     "output_type": "execute_result"
    }
   ],
   "source": [
    "table.loc[1, 'f1'] = 1. # изменение ячейки в оригинальном dataframe.\n",
    "table['f1'][1]"
   ]
  }
 ],
 "metadata": {
  "kernelspec": {
   "display_name": "Python 3 (ipykernel)",
   "language": "python",
   "name": "python3"
  },
  "language_info": {
   "codemirror_mode": {
    "name": "ipython",
    "version": 3
   },
   "file_extension": ".py",
   "mimetype": "text/x-python",
   "name": "python",
   "nbconvert_exporter": "python",
   "pygments_lexer": "ipython3",
   "version": "3.9.10"
  }
 },
 "nbformat": 4,
 "nbformat_minor": 5
}
