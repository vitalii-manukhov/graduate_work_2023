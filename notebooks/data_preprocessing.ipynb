{
 "cells": [
  {
   "cell_type": "markdown",
   "metadata": {},
   "source": [
    "# Подключаем пакеты и определяем функции"
   ]
  },
  {
   "cell_type": "code",
   "execution_count": 1,
   "metadata": {},
   "outputs": [],
   "source": [
    "# Для работы с данными\n",
    "import pandas as pd\n",
    "import numpy as np\n",
    "import wfdb\n",
    "import ast\n",
    "from utils import utils\n",
    "from sklearn.preprocessing import StandardScaler\n",
    "import matplotlib.pyplot as plt   # plotting\n",
    "#import seaborn as sns   # plotting heatmap\n",
    "\n",
    "# Для работы с моделями\n",
    "import tensorflow as tf\n",
    "from tensorflow import keras\n",
    "from keras import layers\n",
    "\n",
    "# Для метрик\n",
    "from keras import backend as K\n",
    "from keras.metrics import AUC, Recall, Precision, Accuracy, TruePositives, TrueNegatives, FalsePositives, FalseNegatives\n",
    "from sklearn.metrics import fbeta_score, precision_score, recall_score, accuracy_score, roc_auc_score\n",
    "\n",
    "tf.random.set_seed(42)\n",
    "%matplotlib inline"
   ]
  },
  {
   "cell_type": "markdown",
   "metadata": {},
   "source": [
    "# Скачиваем ICBEB с использованием кода и обработки авторов исследуемой статьи (обработанные данные, т.е. проведена нормализация и категоризация)"
   ]
  },
  {
   "cell_type": "code",
   "execution_count": 12,
   "metadata": {},
   "outputs": [
    {
     "data": {
      "text/plain": [
       "((1523, 1000, 12), (1523, 3), (169, 1000, 12), (169, 3))"
      ]
     },
     "execution_count": 12,
     "metadata": {},
     "output_type": "execute_result"
    }
   ],
   "source": [
    "sampling_frequency=100\n",
    "datafolder='data/ICBEB/'\n",
    "#task = 'all'\n",
    "#task='diagnostic'\n",
    "#task='superdiagnostic'\n",
    "#task = 'subdiagnostic'\n",
    "#task = 'rhythm'\n",
    "task = 'form'\n",
    "outputfolder='output/'\n",
    "\n",
    "# Load ICBEB data\n",
    "data, raw_labels = utils.load_dataset(datafolder, sampling_frequency)\n",
    "# Preprocess label data\n",
    "labels = utils.compute_label_aggregations(raw_labels, datafolder, task)\n",
    "# Select relevant data and convert to one-hot\n",
    "data, labels, Y, _ = utils.select_data(data, labels, task, min_samples=0, outputfolder=outputfolder)\n",
    "\n",
    "# 1-9 for training \n",
    "X_train = data[labels.strat_fold < 10]\n",
    "y_train = Y[labels.strat_fold < 10]\n",
    "# 10 for validation\n",
    "X_val = data[labels.strat_fold == 10]\n",
    "y_val = Y[labels.strat_fold == 10]\n",
    "\n",
    "# Стандартизация 3D данных c применением StandardScaler.\n",
    "# Сначала изменяется форма данных а затем применяется нормализация. После этого требуется вернуть их прежнюю форму \n",
    "def standard_scaler(X_train, X_val): \n",
    "  scaler = StandardScaler()\n",
    "  # Train\n",
    "  num_instances, num_time_steps, num_features = X_train.shape\n",
    "  X_train = np.reshape(X_train, newshape=(-1, num_features))\n",
    "  X_train = scaler.fit_transform(X_train)\n",
    "  X_train = np.reshape(X_train, newshape=(num_instances, num_time_steps, num_features))\n",
    "    \n",
    "  # Valid\n",
    "  num_instances, num_time_steps, num_features = X_val.shape\n",
    "  X_val = np.reshape(X_val, newshape=(-1, num_features))\n",
    "  X_val = scaler.transform(X_val)\n",
    "  X_val = np.reshape(X_val, newshape=(num_instances, num_time_steps, num_features))\n",
    "  return X_train, X_val\n",
    "\n",
    "X_train.shape, y_train.shape, X_val.shape, y_val.shape"
   ]
  },
  {
   "cell_type": "markdown",
   "metadata": {},
   "source": [
    "***task = 'all'***"
   ]
  },
  {
   "cell_type": "code",
   "execution_count": 3,
   "metadata": {},
   "outputs": [],
   "source": [
    "# Стандартизация данных\n",
    "X_train, X_val = standard_scaler(X_train, X_val)\n",
    "\n",
    "# Сохранение наборов данных в файлы .npy для дальнейшего использования в Google Colab\n",
    "np.save('X_train_ICBEB_all', X_train)\n",
    "np.save('X_val_ICBEB_all', X_val)\n",
    "np.save('y_train_ICBEB_all', y_train)\n",
    "np.save('y_val_ICBEB_all', y_val)"
   ]
  },
  {
   "cell_type": "markdown",
   "metadata": {},
   "source": [
    "##### task = 'diagnostic'"
   ]
  },
  {
   "cell_type": "code",
   "execution_count": 2,
   "metadata": {},
   "outputs": [],
   "source": [
    "# # Выделим уникальные значения y_train в столбце и посчитаем их количество\n",
    "# unique, counts = np.unique(y_train, return_counts = True, axis = 0) \n",
    "# print(unique, '\\n', 'len(unique): ', len(unique))\n",
    "# print(counts, '\\n', 'len(counts): ', len(counts))"
   ]
  },
  {
   "cell_type": "code",
   "execution_count": 5,
   "metadata": {},
   "outputs": [],
   "source": [
    "# Стандартизация данных\n",
    "X_train, X_val = standard_scaler(X_train, X_val)\n",
    "\n",
    "# Сохранение наборов данных в файлы .npy для дальнейшего использования в Google Colab\n",
    "np.save('X_train_ICBEB_diag', X_train)\n",
    "np.save('X_val_ICBEB_diag', X_val)\n",
    "np.save('y_train_ICBEB_diag', y_train)\n",
    "np.save('y_val_ICBEB_diag', y_val)"
   ]
  },
  {
   "cell_type": "markdown",
   "metadata": {},
   "source": [
    "##### task = 'superdiagnostic'"
   ]
  },
  {
   "cell_type": "code",
   "execution_count": 4,
   "metadata": {},
   "outputs": [],
   "source": [
    "# # Выделим уникальные значения y_train в столбце и посчитаем их количество\n",
    "# unique, counts = np.unique(y_train, return_counts = True, axis = 0) \n",
    "# print(unique, '\\n', 'len(unique): ', len(unique))\n",
    "# print(counts, '\\n', 'len(counts): ', len(counts))"
   ]
  },
  {
   "cell_type": "code",
   "execution_count": 7,
   "metadata": {},
   "outputs": [],
   "source": [
    "# Стандартизация данных\n",
    "X_train, X_val = standard_scaler(X_train, X_val)\n",
    "\n",
    "# Сохранение наборов данных в файлы .npy для дальнейшего использования в Google Colab\n",
    "np.save('X_train_ICBEB_superdiag', X_train)\n",
    "np.save('X_val_ICBEB_superdiag', X_val)\n",
    "np.save('y_train_ICBEB_superdiag', y_train)\n",
    "np.save('y_val_ICBEB_superdiag', y_val)"
   ]
  },
  {
   "cell_type": "markdown",
   "metadata": {},
   "source": [
    "##### task = 'subdiagnostic'"
   ]
  },
  {
   "cell_type": "code",
   "execution_count": 3,
   "metadata": {},
   "outputs": [],
   "source": [
    "# # Выделим уникальные значения y_train в столбце и посчитаем их количество\n",
    "# unique, counts = np.unique(y_train, return_counts = True, axis = 0) \n",
    "# print(unique, '\\n', 'len(unique): ', len(unique))\n",
    "# print(counts, '\\n', 'len(counts): ', len(counts))"
   ]
  },
  {
   "cell_type": "code",
   "execution_count": 9,
   "metadata": {},
   "outputs": [],
   "source": [
    "# Стандартизация данных\n",
    "X_train, X_val = standard_scaler(X_train, X_val)\n",
    "\n",
    "# Сохранение наборов данных в файлы .npy для дальнейшего использования в Google Colab\n",
    "np.save('X_train_ICBEB_subdiag', X_train)\n",
    "np.save('X_val_ICBEB_subdiag', X_val)\n",
    "np.save('y_train_ICBEB_subdiag', y_train)\n",
    "np.save('y_val_ICBEB_subdiag', y_val)"
   ]
  },
  {
   "cell_type": "markdown",
   "metadata": {},
   "source": [
    "##### task = 'rhythm'"
   ]
  },
  {
   "cell_type": "code",
   "execution_count": 5,
   "metadata": {},
   "outputs": [],
   "source": [
    "# # Выделим уникальные значения y_train в столбце и посчитаем их количество\n",
    "# unique, counts = np.unique(y_train, return_counts = True, axis = 0) \n",
    "# print(unique, '\\n', 'len(unique): ', len(unique))\n",
    "# print(counts, '\\n', 'len(counts): ', len(counts))"
   ]
  },
  {
   "cell_type": "code",
   "execution_count": 11,
   "metadata": {},
   "outputs": [],
   "source": [
    "# Стандартизация данных\n",
    "X_train, X_val = standard_scaler(X_train, X_val)\n",
    "\n",
    "# Сохранение наборов данных в файлы .npy для дальнейшего использования в Google Colab\n",
    "np.save('X_train_ICBEB_rhythm', X_train)\n",
    "np.save('X_val_ICBEB_rhythm', X_val)\n",
    "np.save('y_train_ICBEB_rhythm', y_train)\n",
    "np.save('y_val_ICBEB_rhythm', y_val)"
   ]
  },
  {
   "cell_type": "markdown",
   "metadata": {},
   "source": [
    "##### task = 'form'"
   ]
  },
  {
   "cell_type": "code",
   "execution_count": 7,
   "metadata": {},
   "outputs": [],
   "source": [
    "# # Выделим уникальные значения y_train в столбце и посчитаем их количество\n",
    "# unique, counts = np.unique(y_train, return_counts = True, axis = 0) \n",
    "# print(unique, '\\n', 'len(unique): ', len(unique))\n",
    "# print(counts, '\\n', 'len(counts): ', len(counts))"
   ]
  },
  {
   "cell_type": "code",
   "execution_count": 13,
   "metadata": {},
   "outputs": [],
   "source": [
    "# Стандартизация данных\n",
    "X_train, X_val = standard_scaler(X_train, X_val)\n",
    "\n",
    "# Сохранение наборов данных в файлы .npy для дальнейшего использования в Google Colab\n",
    "np.save('X_train_ICBEB_form', X_train)\n",
    "np.save('X_val_ICBEB_form', X_val)\n",
    "np.save('y_train_ICBEB_form', y_train)\n",
    "np.save('y_val_ICBEB_form', y_val)"
   ]
  },
  {
   "cell_type": "markdown",
   "metadata": {},
   "source": [
    "# Скачиваем PTB-XL с использованием кода и обработки авторов исследуемой статьи (обработанные данные, т.е. проведена нормализация и категоризация)"
   ]
  },
  {
   "cell_type": "code",
   "execution_count": 4,
   "metadata": {},
   "outputs": [],
   "source": [
    "sampling_frequency=100\n",
    "datafolder='data/ptbxl/'\n",
    "task = 'all'\n",
    "#task='diagnostic'\n",
    "#task='superdiagnostic'\n",
    "#task = 'subdiagnostic'\n",
    "#task = 'rhythm'\n",
    "#task = 'form'\n",
    "outputfolder='output/'\n",
    "\n",
    "# Load PTB-XL data\n",
    "data, raw_labels = utils.load_dataset(datafolder, sampling_frequency)\n",
    "# Preprocess label data\n",
    "labels = utils.compute_label_aggregations(raw_labels, datafolder, task)\n",
    "# Select relevant data and convert to one-hot\n",
    "data, labels, Y, _ = utils.select_data(data, labels, task, min_samples=0, outputfolder=outputfolder)\n",
    "\n",
    "# # 1-9 for training \n",
    "# X_train = data[labels.strat_fold < 10]\n",
    "# y_train = Y[labels.strat_fold < 10]\n",
    "# # 10 for validation\n",
    "# X_val = data[labels.strat_fold == 10]\n",
    "# y_val = Y[labels.strat_fold == 10]\n",
    "\n",
    "# # Стандартизация 3D данных c применением StandardScaler.\n",
    "# # Сначала изменяется форма данных а затем применяется нормализация. После этого требуется вернуть их прежнюю форму \n",
    "# def standard_scaler(X_train, X_val): \n",
    "#   scaler = StandardScaler()\n",
    "#   # Train\n",
    "#   num_instances, num_time_steps, num_features = X_train.shape\n",
    "#   X_train = np.reshape(X_train, newshape=(-1, num_features))\n",
    "#   X_train = scaler.fit_transform(X_train)\n",
    "#   X_train = np.reshape(X_train, newshape=(num_instances, num_time_steps, num_features))\n",
    "#   # Valid\n",
    "#   num_instances, num_time_steps, num_features = X_val.shape\n",
    "#   X_val = np.reshape(X_val, newshape=(-1, num_features))\n",
    "#   X_val = scaler.transform(X_val)\n",
    "#   X_val = np.reshape(X_val, newshape=(num_instances, num_time_steps, num_features))\n",
    "#   return X_train, X_val\n",
    "\n",
    "# X_train.shape, y_train.shape, X_val.shape, y_val.shape"
   ]
  },
  {
   "cell_type": "code",
   "execution_count": 15,
   "metadata": {},
   "outputs": [
    {
     "data": {
      "text/html": [
       "<div>\n",
       "<style scoped>\n",
       "    .dataframe tbody tr th:only-of-type {\n",
       "        vertical-align: middle;\n",
       "    }\n",
       "\n",
       "    .dataframe tbody tr th {\n",
       "        vertical-align: top;\n",
       "    }\n",
       "\n",
       "    .dataframe thead th {\n",
       "        text-align: right;\n",
       "    }\n",
       "</style>\n",
       "<table border=\"1\" class=\"dataframe\">\n",
       "  <thead>\n",
       "    <tr style=\"text-align: right;\">\n",
       "      <th></th>\n",
       "      <th>patient_id</th>\n",
       "      <th>age</th>\n",
       "      <th>sex</th>\n",
       "      <th>height</th>\n",
       "      <th>weight</th>\n",
       "      <th>nurse</th>\n",
       "      <th>site</th>\n",
       "      <th>device</th>\n",
       "      <th>recording_date</th>\n",
       "      <th>report</th>\n",
       "      <th>...</th>\n",
       "      <th>burst_noise</th>\n",
       "      <th>electrodes_problems</th>\n",
       "      <th>extra_beats</th>\n",
       "      <th>pacemaker</th>\n",
       "      <th>strat_fold</th>\n",
       "      <th>filename_lr</th>\n",
       "      <th>filename_hr</th>\n",
       "      <th>scp_codes_len</th>\n",
       "      <th>all_scp</th>\n",
       "      <th>all_scp_len</th>\n",
       "    </tr>\n",
       "    <tr>\n",
       "      <th>ecg_id</th>\n",
       "      <th></th>\n",
       "      <th></th>\n",
       "      <th></th>\n",
       "      <th></th>\n",
       "      <th></th>\n",
       "      <th></th>\n",
       "      <th></th>\n",
       "      <th></th>\n",
       "      <th></th>\n",
       "      <th></th>\n",
       "      <th></th>\n",
       "      <th></th>\n",
       "      <th></th>\n",
       "      <th></th>\n",
       "      <th></th>\n",
       "      <th></th>\n",
       "      <th></th>\n",
       "      <th></th>\n",
       "      <th></th>\n",
       "      <th></th>\n",
       "      <th></th>\n",
       "    </tr>\n",
       "  </thead>\n",
       "  <tbody>\n",
       "    <tr>\n",
       "      <th>9</th>\n",
       "      <td>18792.0</td>\n",
       "      <td>55.0</td>\n",
       "      <td>0</td>\n",
       "      <td>NaN</td>\n",
       "      <td>70.0</td>\n",
       "      <td>2.0</td>\n",
       "      <td>0.0</td>\n",
       "      <td>CS-12   E</td>\n",
       "      <td>1984-12-08 09:44:43</td>\n",
       "      <td>sinusrhythmus normales ekg</td>\n",
       "      <td>...</td>\n",
       "      <td>NaN</td>\n",
       "      <td>NaN</td>\n",
       "      <td>NaN</td>\n",
       "      <td>NaN</td>\n",
       "      <td>10</td>\n",
       "      <td>records100/00000/00009_lr</td>\n",
       "      <td>records500/00000/00009_hr</td>\n",
       "      <td>2</td>\n",
       "      <td>[SR, NORM]</td>\n",
       "      <td>2</td>\n",
       "    </tr>\n",
       "    <tr>\n",
       "      <th>38</th>\n",
       "      <td>17076.0</td>\n",
       "      <td>40.0</td>\n",
       "      <td>0</td>\n",
       "      <td>NaN</td>\n",
       "      <td>72.0</td>\n",
       "      <td>2.0</td>\n",
       "      <td>0.0</td>\n",
       "      <td>CS-12   E</td>\n",
       "      <td>1985-02-15 11:48:22</td>\n",
       "      <td>sinusrhythmus schwierig bestimmbare qrs-achse</td>\n",
       "      <td>...</td>\n",
       "      <td>V5</td>\n",
       "      <td>NaN</td>\n",
       "      <td>NaN</td>\n",
       "      <td>NaN</td>\n",
       "      <td>10</td>\n",
       "      <td>records100/00000/00038_lr</td>\n",
       "      <td>records500/00000/00038_hr</td>\n",
       "      <td>2</td>\n",
       "      <td>[SR, NORM]</td>\n",
       "      <td>2</td>\n",
       "    </tr>\n",
       "    <tr>\n",
       "      <th>40</th>\n",
       "      <td>19501.0</td>\n",
       "      <td>60.0</td>\n",
       "      <td>0</td>\n",
       "      <td>NaN</td>\n",
       "      <td>85.0</td>\n",
       "      <td>2.0</td>\n",
       "      <td>0.0</td>\n",
       "      <td>CS-12   E</td>\n",
       "      <td>1985-02-20 11:43:45</td>\n",
       "      <td>sinusrhythmus linkstyp sonst normales ekg</td>\n",
       "      <td>...</td>\n",
       "      <td>NaN</td>\n",
       "      <td>NaN</td>\n",
       "      <td>NaN</td>\n",
       "      <td>NaN</td>\n",
       "      <td>10</td>\n",
       "      <td>records100/00000/00040_lr</td>\n",
       "      <td>records500/00000/00040_hr</td>\n",
       "      <td>2</td>\n",
       "      <td>[SR, NORM]</td>\n",
       "      <td>2</td>\n",
       "    </tr>\n",
       "    <tr>\n",
       "      <th>57</th>\n",
       "      <td>16063.0</td>\n",
       "      <td>26.0</td>\n",
       "      <td>0</td>\n",
       "      <td>NaN</td>\n",
       "      <td>93.0</td>\n",
       "      <td>2.0</td>\n",
       "      <td>0.0</td>\n",
       "      <td>CS-12   E</td>\n",
       "      <td>1985-06-06 11:32:43</td>\n",
       "      <td>sinusrhythmus normales ekg</td>\n",
       "      <td>...</td>\n",
       "      <td>NaN</td>\n",
       "      <td>NaN</td>\n",
       "      <td>NaN</td>\n",
       "      <td>NaN</td>\n",
       "      <td>10</td>\n",
       "      <td>records100/00000/00057_lr</td>\n",
       "      <td>records500/00000/00057_hr</td>\n",
       "      <td>2</td>\n",
       "      <td>[SR, NORM]</td>\n",
       "      <td>2</td>\n",
       "    </tr>\n",
       "    <tr>\n",
       "      <th>59</th>\n",
       "      <td>19475.0</td>\n",
       "      <td>54.0</td>\n",
       "      <td>0</td>\n",
       "      <td>NaN</td>\n",
       "      <td>67.0</td>\n",
       "      <td>2.0</td>\n",
       "      <td>0.0</td>\n",
       "      <td>CS-12   E</td>\n",
       "      <td>1985-06-12 06:36:01</td>\n",
       "      <td>sinusrhythmus normales ekg</td>\n",
       "      <td>...</td>\n",
       "      <td>NaN</td>\n",
       "      <td>NaN</td>\n",
       "      <td>NaN</td>\n",
       "      <td>NaN</td>\n",
       "      <td>10</td>\n",
       "      <td>records100/00000/00059_lr</td>\n",
       "      <td>records500/00000/00059_hr</td>\n",
       "      <td>2</td>\n",
       "      <td>[SR, NORM]</td>\n",
       "      <td>2</td>\n",
       "    </tr>\n",
       "    <tr>\n",
       "      <th>...</th>\n",
       "      <td>...</td>\n",
       "      <td>...</td>\n",
       "      <td>...</td>\n",
       "      <td>...</td>\n",
       "      <td>...</td>\n",
       "      <td>...</td>\n",
       "      <td>...</td>\n",
       "      <td>...</td>\n",
       "      <td>...</td>\n",
       "      <td>...</td>\n",
       "      <td>...</td>\n",
       "      <td>...</td>\n",
       "      <td>...</td>\n",
       "      <td>...</td>\n",
       "      <td>...</td>\n",
       "      <td>...</td>\n",
       "      <td>...</td>\n",
       "      <td>...</td>\n",
       "      <td>...</td>\n",
       "      <td>...</td>\n",
       "      <td>...</td>\n",
       "    </tr>\n",
       "    <tr>\n",
       "      <th>21809</th>\n",
       "      <td>12931.0</td>\n",
       "      <td>69.0</td>\n",
       "      <td>1</td>\n",
       "      <td>NaN</td>\n",
       "      <td>NaN</td>\n",
       "      <td>1.0</td>\n",
       "      <td>2.0</td>\n",
       "      <td>AT-60    3</td>\n",
       "      <td>2001-02-18 12:36:54</td>\n",
       "      <td>sinusrhythmus linkstyp qrs(t) abnorm    inferi...</td>\n",
       "      <td>...</td>\n",
       "      <td>NaN</td>\n",
       "      <td>NaN</td>\n",
       "      <td>NaN</td>\n",
       "      <td>NaN</td>\n",
       "      <td>10</td>\n",
       "      <td>records100/21000/21809_lr</td>\n",
       "      <td>records500/21000/21809_hr</td>\n",
       "      <td>3</td>\n",
       "      <td>[ABQRS, NORM, SR]</td>\n",
       "      <td>3</td>\n",
       "    </tr>\n",
       "    <tr>\n",
       "      <th>21812</th>\n",
       "      <td>20789.0</td>\n",
       "      <td>67.0</td>\n",
       "      <td>0</td>\n",
       "      <td>NaN</td>\n",
       "      <td>NaN</td>\n",
       "      <td>1.0</td>\n",
       "      <td>2.0</td>\n",
       "      <td>AT-60    3</td>\n",
       "      <td>2001-02-21 13:34:15</td>\n",
       "      <td>supraventrikulÄre arrhythmie a-v block i p-ver...</td>\n",
       "      <td>...</td>\n",
       "      <td>NaN</td>\n",
       "      <td>NaN</td>\n",
       "      <td>NaN</td>\n",
       "      <td>NaN</td>\n",
       "      <td>10</td>\n",
       "      <td>records100/21000/21812_lr</td>\n",
       "      <td>records500/21000/21812_hr</td>\n",
       "      <td>5</td>\n",
       "      <td>[1AVB, CRBBB, LAFB, SVARR, ABQRS]</td>\n",
       "      <td>5</td>\n",
       "    </tr>\n",
       "    <tr>\n",
       "      <th>21818</th>\n",
       "      <td>19204.0</td>\n",
       "      <td>84.0</td>\n",
       "      <td>1</td>\n",
       "      <td>NaN</td>\n",
       "      <td>NaN</td>\n",
       "      <td>1.0</td>\n",
       "      <td>2.0</td>\n",
       "      <td>AT-60    3</td>\n",
       "      <td>2001-03-03 12:09:05</td>\n",
       "      <td>sinusrhythmus linkstyp mÄssige amplitudenkrite...</td>\n",
       "      <td>...</td>\n",
       "      <td>NaN</td>\n",
       "      <td>NaN</td>\n",
       "      <td>NaN</td>\n",
       "      <td>NaN</td>\n",
       "      <td>10</td>\n",
       "      <td>records100/21000/21818_lr</td>\n",
       "      <td>records500/21000/21818_hr</td>\n",
       "      <td>4</td>\n",
       "      <td>[ABQRS, NORM, SR, VCLVH]</td>\n",
       "      <td>4</td>\n",
       "    </tr>\n",
       "    <tr>\n",
       "      <th>21819</th>\n",
       "      <td>9843.0</td>\n",
       "      <td>54.0</td>\n",
       "      <td>0</td>\n",
       "      <td>NaN</td>\n",
       "      <td>NaN</td>\n",
       "      <td>1.0</td>\n",
       "      <td>2.0</td>\n",
       "      <td>AT-60    3</td>\n",
       "      <td>2001-03-03 12:12:58</td>\n",
       "      <td>sinusrhythmus p-sinistrocardiale ueberdrehter ...</td>\n",
       "      <td>...</td>\n",
       "      <td>NaN</td>\n",
       "      <td>NaN</td>\n",
       "      <td>NaN</td>\n",
       "      <td>NaN</td>\n",
       "      <td>10</td>\n",
       "      <td>records100/21000/21819_lr</td>\n",
       "      <td>records500/21000/21819_hr</td>\n",
       "      <td>3</td>\n",
       "      <td>[IRBBB, LAFB, SR]</td>\n",
       "      <td>3</td>\n",
       "    </tr>\n",
       "    <tr>\n",
       "      <th>21826</th>\n",
       "      <td>9178.0</td>\n",
       "      <td>82.0</td>\n",
       "      <td>1</td>\n",
       "      <td>NaN</td>\n",
       "      <td>NaN</td>\n",
       "      <td>1.0</td>\n",
       "      <td>2.0</td>\n",
       "      <td>AT-60    3</td>\n",
       "      <td>2001-05-13 18:20:52</td>\n",
       "      <td>sinus arrhythmie ueberdrehter linkstyp linksan...</td>\n",
       "      <td>...</td>\n",
       "      <td>NaN</td>\n",
       "      <td>NaN</td>\n",
       "      <td>NaN</td>\n",
       "      <td>NaN</td>\n",
       "      <td>10</td>\n",
       "      <td>records100/21000/21826_lr</td>\n",
       "      <td>records500/21000/21826_hr</td>\n",
       "      <td>3</td>\n",
       "      <td>[IMI, ABQRS, SARRH]</td>\n",
       "      <td>3</td>\n",
       "    </tr>\n",
       "  </tbody>\n",
       "</table>\n",
       "<p>2203 rows × 30 columns</p>\n",
       "</div>"
      ],
      "text/plain": [
       "        patient_id   age  sex  height  weight  nurse  site      device  \\\n",
       "ecg_id                                                                   \n",
       "9          18792.0  55.0    0     NaN    70.0    2.0   0.0   CS-12   E   \n",
       "38         17076.0  40.0    0     NaN    72.0    2.0   0.0   CS-12   E   \n",
       "40         19501.0  60.0    0     NaN    85.0    2.0   0.0   CS-12   E   \n",
       "57         16063.0  26.0    0     NaN    93.0    2.0   0.0   CS-12   E   \n",
       "59         19475.0  54.0    0     NaN    67.0    2.0   0.0   CS-12   E   \n",
       "...            ...   ...  ...     ...     ...    ...   ...         ...   \n",
       "21809      12931.0  69.0    1     NaN     NaN    1.0   2.0  AT-60    3   \n",
       "21812      20789.0  67.0    0     NaN     NaN    1.0   2.0  AT-60    3   \n",
       "21818      19204.0  84.0    1     NaN     NaN    1.0   2.0  AT-60    3   \n",
       "21819       9843.0  54.0    0     NaN     NaN    1.0   2.0  AT-60    3   \n",
       "21826       9178.0  82.0    1     NaN     NaN    1.0   2.0  AT-60    3   \n",
       "\n",
       "             recording_date  \\\n",
       "ecg_id                        \n",
       "9       1984-12-08 09:44:43   \n",
       "38      1985-02-15 11:48:22   \n",
       "40      1985-02-20 11:43:45   \n",
       "57      1985-06-06 11:32:43   \n",
       "59      1985-06-12 06:36:01   \n",
       "...                     ...   \n",
       "21809   2001-02-18 12:36:54   \n",
       "21812   2001-02-21 13:34:15   \n",
       "21818   2001-03-03 12:09:05   \n",
       "21819   2001-03-03 12:12:58   \n",
       "21826   2001-05-13 18:20:52   \n",
       "\n",
       "                                                   report  ... burst_noise  \\\n",
       "ecg_id                                                     ...               \n",
       "9                              sinusrhythmus normales ekg  ...         NaN   \n",
       "38          sinusrhythmus schwierig bestimmbare qrs-achse  ...          V5   \n",
       "40              sinusrhythmus linkstyp sonst normales ekg  ...         NaN   \n",
       "57                             sinusrhythmus normales ekg  ...         NaN   \n",
       "59                             sinusrhythmus normales ekg  ...         NaN   \n",
       "...                                                   ...  ...         ...   \n",
       "21809   sinusrhythmus linkstyp qrs(t) abnorm    inferi...  ...         NaN   \n",
       "21812   supraventrikulÄre arrhythmie a-v block i p-ver...  ...         NaN   \n",
       "21818   sinusrhythmus linkstyp mÄssige amplitudenkrite...  ...         NaN   \n",
       "21819   sinusrhythmus p-sinistrocardiale ueberdrehter ...  ...         NaN   \n",
       "21826   sinus arrhythmie ueberdrehter linkstyp linksan...  ...         NaN   \n",
       "\n",
       "       electrodes_problems extra_beats pacemaker  strat_fold  \\\n",
       "ecg_id                                                         \n",
       "9                      NaN         NaN       NaN          10   \n",
       "38                     NaN         NaN       NaN          10   \n",
       "40                     NaN         NaN       NaN          10   \n",
       "57                     NaN         NaN       NaN          10   \n",
       "59                     NaN         NaN       NaN          10   \n",
       "...                    ...         ...       ...         ...   \n",
       "21809                  NaN         NaN       NaN          10   \n",
       "21812                  NaN         NaN       NaN          10   \n",
       "21818                  NaN         NaN       NaN          10   \n",
       "21819                  NaN         NaN       NaN          10   \n",
       "21826                  NaN         NaN       NaN          10   \n",
       "\n",
       "                      filename_lr                filename_hr  scp_codes_len  \\\n",
       "ecg_id                                                                        \n",
       "9       records100/00000/00009_lr  records500/00000/00009_hr              2   \n",
       "38      records100/00000/00038_lr  records500/00000/00038_hr              2   \n",
       "40      records100/00000/00040_lr  records500/00000/00040_hr              2   \n",
       "57      records100/00000/00057_lr  records500/00000/00057_hr              2   \n",
       "59      records100/00000/00059_lr  records500/00000/00059_hr              2   \n",
       "...                           ...                        ...            ...   \n",
       "21809   records100/21000/21809_lr  records500/21000/21809_hr              3   \n",
       "21812   records100/21000/21812_lr  records500/21000/21812_hr              5   \n",
       "21818   records100/21000/21818_lr  records500/21000/21818_hr              4   \n",
       "21819   records100/21000/21819_lr  records500/21000/21819_hr              3   \n",
       "21826   records100/21000/21826_lr  records500/21000/21826_hr              3   \n",
       "\n",
       "                                  all_scp all_scp_len  \n",
       "ecg_id                                                 \n",
       "9                              [SR, NORM]           2  \n",
       "38                             [SR, NORM]           2  \n",
       "40                             [SR, NORM]           2  \n",
       "57                             [SR, NORM]           2  \n",
       "59                             [SR, NORM]           2  \n",
       "...                                   ...         ...  \n",
       "21809                   [ABQRS, NORM, SR]           3  \n",
       "21812   [1AVB, CRBBB, LAFB, SVARR, ABQRS]           5  \n",
       "21818            [ABQRS, NORM, SR, VCLVH]           4  \n",
       "21819                   [IRBBB, LAFB, SR]           3  \n",
       "21826                 [IMI, ABQRS, SARRH]           3  \n",
       "\n",
       "[2203 rows x 30 columns]"
      ]
     },
     "execution_count": 15,
     "metadata": {},
     "output_type": "execute_result"
    }
   ],
   "source": [
    "labels_test = labels[labels.strat_fold == 10]\n",
    "labels_test"
   ]
  },
  {
   "cell_type": "code",
   "execution_count": 12,
   "metadata": {},
   "outputs": [
    {
     "data": {
      "text/html": [
       "<style>#sk-container-id-1 {color: black;background-color: white;}#sk-container-id-1 pre{padding: 0;}#sk-container-id-1 div.sk-toggleable {background-color: white;}#sk-container-id-1 label.sk-toggleable__label {cursor: pointer;display: block;width: 100%;margin-bottom: 0;padding: 0.3em;box-sizing: border-box;text-align: center;}#sk-container-id-1 label.sk-toggleable__label-arrow:before {content: \"▸\";float: left;margin-right: 0.25em;color: #696969;}#sk-container-id-1 label.sk-toggleable__label-arrow:hover:before {color: black;}#sk-container-id-1 div.sk-estimator:hover label.sk-toggleable__label-arrow:before {color: black;}#sk-container-id-1 div.sk-toggleable__content {max-height: 0;max-width: 0;overflow: hidden;text-align: left;background-color: #f0f8ff;}#sk-container-id-1 div.sk-toggleable__content pre {margin: 0.2em;color: black;border-radius: 0.25em;background-color: #f0f8ff;}#sk-container-id-1 input.sk-toggleable__control:checked~div.sk-toggleable__content {max-height: 200px;max-width: 100%;overflow: auto;}#sk-container-id-1 input.sk-toggleable__control:checked~label.sk-toggleable__label-arrow:before {content: \"▾\";}#sk-container-id-1 div.sk-estimator input.sk-toggleable__control:checked~label.sk-toggleable__label {background-color: #d4ebff;}#sk-container-id-1 div.sk-label input.sk-toggleable__control:checked~label.sk-toggleable__label {background-color: #d4ebff;}#sk-container-id-1 input.sk-hidden--visually {border: 0;clip: rect(1px 1px 1px 1px);clip: rect(1px, 1px, 1px, 1px);height: 1px;margin: -1px;overflow: hidden;padding: 0;position: absolute;width: 1px;}#sk-container-id-1 div.sk-estimator {font-family: monospace;background-color: #f0f8ff;border: 1px dotted black;border-radius: 0.25em;box-sizing: border-box;margin-bottom: 0.5em;}#sk-container-id-1 div.sk-estimator:hover {background-color: #d4ebff;}#sk-container-id-1 div.sk-parallel-item::after {content: \"\";width: 100%;border-bottom: 1px solid gray;flex-grow: 1;}#sk-container-id-1 div.sk-label:hover label.sk-toggleable__label {background-color: #d4ebff;}#sk-container-id-1 div.sk-serial::before {content: \"\";position: absolute;border-left: 1px solid gray;box-sizing: border-box;top: 0;bottom: 0;left: 50%;z-index: 0;}#sk-container-id-1 div.sk-serial {display: flex;flex-direction: column;align-items: center;background-color: white;padding-right: 0.2em;padding-left: 0.2em;position: relative;}#sk-container-id-1 div.sk-item {position: relative;z-index: 1;}#sk-container-id-1 div.sk-parallel {display: flex;align-items: stretch;justify-content: center;background-color: white;position: relative;}#sk-container-id-1 div.sk-item::before, #sk-container-id-1 div.sk-parallel-item::before {content: \"\";position: absolute;border-left: 1px solid gray;box-sizing: border-box;top: 0;bottom: 0;left: 50%;z-index: -1;}#sk-container-id-1 div.sk-parallel-item {display: flex;flex-direction: column;z-index: 1;position: relative;background-color: white;}#sk-container-id-1 div.sk-parallel-item:first-child::after {align-self: flex-end;width: 50%;}#sk-container-id-1 div.sk-parallel-item:last-child::after {align-self: flex-start;width: 50%;}#sk-container-id-1 div.sk-parallel-item:only-child::after {width: 0;}#sk-container-id-1 div.sk-dashed-wrapped {border: 1px dashed gray;margin: 0 0.4em 0.5em 0.4em;box-sizing: border-box;padding-bottom: 0.4em;background-color: white;}#sk-container-id-1 div.sk-label label {font-family: monospace;font-weight: bold;display: inline-block;line-height: 1.2em;}#sk-container-id-1 div.sk-label-container {text-align: center;}#sk-container-id-1 div.sk-container {/* jupyter's `normalize.less` sets `[hidden] { display: none; }` but bootstrap.min.css set `[hidden] { display: none !important; }` so we also need the `!important` here to be able to override the default hidden behavior on the sphinx rendered scikit-learn.org. See: https://github.com/scikit-learn/scikit-learn/issues/21755 */display: inline-block !important;position: relative;}#sk-container-id-1 div.sk-text-repr-fallback {display: none;}</style><div id=\"sk-container-id-1\" class=\"sk-top-container\"><div class=\"sk-text-repr-fallback\"><pre>MultiLabelBinarizer()</pre><b>In a Jupyter environment, please rerun this cell to show the HTML representation or trust the notebook. <br />On GitHub, the HTML representation is unable to render, please try loading this page with nbviewer.org.</b></div><div class=\"sk-container\" hidden><div class=\"sk-item\"><div class=\"sk-estimator sk-toggleable\"><input class=\"sk-toggleable__control sk-hidden--visually\" id=\"sk-estimator-id-1\" type=\"checkbox\" checked><label for=\"sk-estimator-id-1\" class=\"sk-toggleable__label sk-toggleable__label-arrow\">MultiLabelBinarizer</label><div class=\"sk-toggleable__content\"><pre>MultiLabelBinarizer()</pre></div></div></div></div></div>"
      ],
      "text/plain": [
       "MultiLabelBinarizer()"
      ]
     },
     "execution_count": 12,
     "metadata": {},
     "output_type": "execute_result"
    }
   ],
   "source": [
    "_"
   ]
  },
  {
   "cell_type": "code",
   "execution_count": 16,
   "metadata": {},
   "outputs": [
    {
     "data": {
      "text/plain": [
       "ecg_id\n",
       "9                               [SR, NORM]\n",
       "38                              [SR, NORM]\n",
       "40                              [SR, NORM]\n",
       "57                              [SR, NORM]\n",
       "59                              [SR, NORM]\n",
       "                       ...                \n",
       "21809                    [ABQRS, NORM, SR]\n",
       "21812    [1AVB, CRBBB, LAFB, SVARR, ABQRS]\n",
       "21818             [ABQRS, NORM, SR, VCLVH]\n",
       "21819                    [IRBBB, LAFB, SR]\n",
       "21826                  [IMI, ABQRS, SARRH]\n",
       "Name: all_scp, Length: 2203, dtype: object"
      ]
     },
     "execution_count": 16,
     "metadata": {},
     "output_type": "execute_result"
    }
   ],
   "source": [
    "labels_test.all_scp"
   ]
  },
  {
   "cell_type": "code",
   "execution_count": 18,
   "metadata": {},
   "outputs": [
    {
     "data": {
      "text/plain": [
       "pandas.core.series.Series"
      ]
     },
     "execution_count": 18,
     "metadata": {},
     "output_type": "execute_result"
    }
   ],
   "source": [
    "type(labels_test.all_scp)"
   ]
  },
  {
   "cell_type": "code",
   "execution_count": 19,
   "metadata": {},
   "outputs": [
    {
     "data": {
      "text/plain": [
       "(2203,)"
      ]
     },
     "execution_count": 19,
     "metadata": {},
     "output_type": "execute_result"
    }
   ],
   "source": [
    "labels_test.all_scp.shape"
   ]
  },
  {
   "cell_type": "code",
   "execution_count": 21,
   "metadata": {},
   "outputs": [
    {
     "name": "stdout",
     "output_type": "stream",
     "text": [
      "<class 'pandas.core.series.Series'>\n"
     ]
    }
   ],
   "source": [
    "import pandas as pd\n",
    "\n",
    "# Разделение списков на отдельные строки\n",
    "labels_expanded = labels_test.all_scp.explode()\n",
    "\n",
    "# Подсчет количества вхождений каждого элемента\n",
    "element_counts = labels_expanded.value_counts()\n",
    "\n",
    "# Вывод результата\n",
    "print(type(element_counts))"
   ]
  },
  {
   "cell_type": "code",
   "execution_count": 23,
   "metadata": {},
   "outputs": [
    {
     "name": "stdout",
     "output_type": "stream",
     "text": [
      "SR         1678\n",
      "NORM        964\n",
      "ABQRS       322\n",
      "IMI         268\n",
      "ASMI        236\n",
      "LVH         214\n",
      "NDT         183\n",
      "LAFB        163\n",
      "AFIB        152\n",
      "ISC_        128\n",
      "PVC         115\n",
      "IRBBB       112\n",
      "STD_        101\n",
      "VCLVH        87\n",
      "STACH        82\n",
      "1AVB         80\n",
      "IVCD         79\n",
      "NST_         77\n",
      "SARRH        77\n",
      "ISCAL        66\n",
      "SBRAD        64\n",
      "QWAVE        55\n",
      "CRBBB        54\n",
      "CLBBB        54\n",
      "ILMI         48\n",
      "LOWT         44\n",
      "NT_          42\n",
      "LAO/LAE      42\n",
      "PAC          40\n",
      "AMI          35\n",
      "LPR          34\n",
      "INVT         29\n",
      "PACE         29\n",
      "ALMI         29\n",
      "ISCIN        22\n",
      "INJAS        22\n",
      "LMI          20\n",
      "LVOLT        18\n",
      "ISCIL        18\n",
      "DIG          18\n",
      "LPFB         18\n",
      "ISCAS        17\n",
      "ISCLA        14\n",
      "SVARR        14\n",
      "INJAL        14\n",
      "RVH          12\n",
      "LNGQT        11\n",
      "ANEUR        10\n",
      "RAO/RAE      10\n",
      "EL            9\n",
      "WPW           8\n",
      "ILBBB         8\n",
      "BIGU          8\n",
      "AFLT          7\n",
      "HVOLT         6\n",
      "IPLMI         5\n",
      "ISCAN         4\n",
      "SVTAC         3\n",
      "STE_          3\n",
      "SEHYP         3\n",
      "TAB_          3\n",
      "IPMI          3\n",
      "3AVB          2\n",
      "INJIL         2\n",
      "INJIN         2\n",
      "PSVT          2\n",
      "INJLA         2\n",
      "TRIGU         2\n",
      "PMI           2\n",
      "PRC(S)        1\n",
      "2AVB          1\n",
      "Name: all_scp, dtype: int64\n"
     ]
    }
   ],
   "source": [
    "# Вывод полной серии\n",
    "pd.set_option('display.max_rows', None)\n",
    "print(element_counts)"
   ]
  },
  {
   "cell_type": "code",
   "execution_count": 25,
   "metadata": {},
   "outputs": [
    {
     "name": "stdout",
     "output_type": "stream",
     "text": [
      "SR         1678\n",
      "NORM        964\n",
      "ABQRS       322\n",
      "ASMI        236\n",
      "IRBBB       112\n",
      "SARRH        77\n",
      "NDT         183\n",
      "LAFB        163\n",
      "NST_         77\n",
      "LVH         214\n",
      "ISC_        128\n",
      "ISCAL        66\n",
      "CRBBB        54\n",
      "IMI         268\n",
      "CLBBB        54\n",
      "1AVB         80\n",
      "SBRAD        64\n",
      "STD_        101\n",
      "PAC          40\n",
      "VCLVH        87\n",
      "INVT         29\n",
      "LAO/LAE      42\n",
      "AFIB        152\n",
      "DIG          18\n",
      "AFLT          7\n",
      "PVC         115\n",
      "SVTAC         3\n",
      "LPR          34\n",
      "LPFB         18\n",
      "PACE         29\n",
      "NT_          42\n",
      "ILMI         48\n",
      "IVCD         79\n",
      "ANEUR        10\n",
      "LOWT         44\n",
      "ILBBB         8\n",
      "ISCIL        18\n",
      "QWAVE        55\n",
      "ISCIN        22\n",
      "INJAS        22\n",
      "STACH        82\n",
      "RAO/RAE      10\n",
      "3AVB          2\n",
      "INJIL         2\n",
      "AMI          35\n",
      "HVOLT         6\n",
      "EL            9\n",
      "TAB_          3\n",
      "LMI          20\n",
      "INJAL        14\n",
      "LVOLT        18\n",
      "BIGU          8\n",
      "LNGQT        11\n",
      "RVH          12\n",
      "ALMI         29\n",
      "ISCAS        17\n",
      "STE_          3\n",
      "ISCLA        14\n",
      "WPW           8\n",
      "SVARR        14\n",
      "SEHYP         3\n",
      "ISCAN         4\n",
      "IPLMI         5\n",
      "INJIN         2\n",
      "PSVT          2\n",
      "INJLA         2\n",
      "IPMI          3\n",
      "TRIGU         2\n",
      "PMI           2\n",
      "PRC(S)        1\n",
      "2AVB          1\n",
      "dtype: int32\n"
     ]
    }
   ],
   "source": [
    "from collections import Counter\n",
    "import pandas as pd\n",
    "\n",
    "# Соединение всех списков в один\n",
    "combined_list = [item for sublist in labels_test.all_scp for item in sublist]\n",
    "\n",
    "# Подсчет количества вхождений каждого элемента, сохраняя порядок следования\n",
    "element_counts = pd.Series(dict(Counter(combined_list))).astype(int)\n",
    "\n",
    "# Вывод результата\n",
    "print(element_counts)"
   ]
  },
  {
   "cell_type": "markdown",
   "metadata": {},
   "source": [
    "***task = 'all'***"
   ]
  },
  {
   "cell_type": "code",
   "execution_count": 4,
   "metadata": {},
   "outputs": [],
   "source": [
    "# Стандартизация данных\n",
    "X_train, X_val = standard_scaler(X_train, X_val)\n",
    "\n",
    "# Сохранение наборов данных в файлы .npy для дальнейшего использования в Google Colab\n",
    "np.save('X_train_ptbxl_all', X_train)\n",
    "np.save('X_val_ptbxl_all', X_val)\n",
    "np.save('y_train_ptbxl_all', y_train)\n",
    "np.save('y_val_ptbxl_all', y_val)"
   ]
  },
  {
   "cell_type": "markdown",
   "metadata": {},
   "source": [
    "##### task = 'diagnostic'"
   ]
  },
  {
   "cell_type": "code",
   "execution_count": 8,
   "metadata": {},
   "outputs": [],
   "source": [
    "# # Выделим уникальные значения y_train в столбце и посчитаем их количество\n",
    "# unique, counts = np.unique(y_train, return_counts = True, axis = 0) \n",
    "# print(unique, '\\n', 'len(unique): ', len(unique))\n",
    "# print(counts, '\\n', 'len(counts): ', len(counts))"
   ]
  },
  {
   "cell_type": "code",
   "execution_count": 3,
   "metadata": {},
   "outputs": [],
   "source": [
    "# Стандартизация данных\n",
    "X_train, X_val = standard_scaler(X_train, X_val)\n",
    "\n",
    "# Сохранение наборов данных в файлы .npy для дальнейшего использования в Google Colab\n",
    "np.save('X_train_ptbxl_diag', X_train)\n",
    "np.save('X_val_ptbxl_diag', X_val)\n",
    "np.save('y_train_ptbxl_diag', y_train)\n",
    "np.save('y_val_ptbxl_diag', y_val)"
   ]
  },
  {
   "cell_type": "markdown",
   "metadata": {},
   "source": [
    "##### task = 'superdiagnostic'"
   ]
  },
  {
   "cell_type": "code",
   "execution_count": 9,
   "metadata": {},
   "outputs": [],
   "source": [
    "# # Выделим уникальные значения y_train в столбце и посчитаем их количество\n",
    "# unique, counts = np.unique(y_train, return_counts = True, axis = 0) \n",
    "# print(unique, '\\n', 'len(unique): ', len(unique))\n",
    "# print(counts, '\\n', 'len(counts): ', len(counts))"
   ]
  },
  {
   "cell_type": "code",
   "execution_count": 3,
   "metadata": {},
   "outputs": [],
   "source": [
    "# Стандартизация данных\n",
    "X_train, X_val = standard_scaler(X_train, X_val)\n",
    "\n",
    "# Сохранение наборов данных в файлы .npy для дальнейшего использования в Google Colab\n",
    "np.save('X_train_ptbxl_superdiag', X_train)\n",
    "np.save('X_val_ptbxl_superdiag', X_val)\n",
    "np.save('y_train_ptbxl_superdiag', y_train)\n",
    "np.save('y_val_ptbxl_superdiag', y_val)"
   ]
  },
  {
   "cell_type": "markdown",
   "metadata": {},
   "source": [
    "##### task = 'subdiagnostic'"
   ]
  },
  {
   "cell_type": "code",
   "execution_count": 10,
   "metadata": {},
   "outputs": [],
   "source": [
    "# # Выделим уникальные значения y_train в столбце и посчитаем их количество\n",
    "# unique, counts = np.unique(y_train, return_counts = True, axis = 0) \n",
    "# print(unique, '\\n', 'len(unique): ', len(unique))\n",
    "# print(counts, '\\n', 'len(counts): ', len(counts))"
   ]
  },
  {
   "cell_type": "code",
   "execution_count": 3,
   "metadata": {},
   "outputs": [],
   "source": [
    "# Стандартизация данных\n",
    "X_train, X_val = standard_scaler(X_train, X_val)\n",
    "\n",
    "# Сохранение наборов данных в файлы .npy для дальнейшего использования в Google Colab\n",
    "np.save('X_train_ptbxl_subdiag', X_train)\n",
    "np.save('X_val_ptbxl_subdiag', X_val)\n",
    "np.save('y_train_ptbxl_subdiag', y_train)\n",
    "np.save('y_val_ptbxl_subdiag', y_val)"
   ]
  },
  {
   "cell_type": "markdown",
   "metadata": {},
   "source": [
    "##### task = 'rhythm'"
   ]
  },
  {
   "cell_type": "code",
   "execution_count": 11,
   "metadata": {},
   "outputs": [],
   "source": [
    "# # Выделим уникальные значения y_train в столбце и посчитаем их количество\n",
    "# unique, counts = np.unique(y_train, return_counts = True, axis = 0) \n",
    "# print(unique, '\\n', 'len(unique): ', len(unique))\n",
    "# print(counts, '\\n', 'len(counts): ', len(counts))"
   ]
  },
  {
   "cell_type": "code",
   "execution_count": 4,
   "metadata": {},
   "outputs": [],
   "source": [
    "# Стандартизация данных\n",
    "X_train, X_val = standard_scaler(X_train, X_val)\n",
    "\n",
    "# Сохранение наборов данных в файлы .npy для дальнейшего использования в Google Colab\n",
    "np.save('X_train_ptbxl_rhythm', X_train)\n",
    "np.save('X_val_ptbxl_rhythm', X_val)\n",
    "np.save('y_train_ptbxl_rhythm', y_train)\n",
    "np.save('y_val_ptbxl_rhythm', y_val)"
   ]
  },
  {
   "cell_type": "markdown",
   "metadata": {},
   "source": [
    "##### task = 'form'"
   ]
  },
  {
   "cell_type": "code",
   "execution_count": 12,
   "metadata": {},
   "outputs": [],
   "source": [
    "# # Выделим уникальные значения y_train в столбце и посчитаем их количество\n",
    "# unique, counts = np.unique(y_train, return_counts = True, axis = 0) \n",
    "# print(unique, '\\n', 'len(unique): ', len(unique))\n",
    "# print(counts, '\\n', 'len(counts): ', len(counts))"
   ]
  },
  {
   "cell_type": "code",
   "execution_count": 3,
   "metadata": {},
   "outputs": [],
   "source": [
    "# Стандартизация данных\n",
    "X_train, X_val = standard_scaler(X_train, X_val)\n",
    "\n",
    "# Сохранение наборов данных в файлы .npy для дальнейшего использования в Google Colab\n",
    "np.save('X_train_ptbxl_form', X_train)\n",
    "np.save('X_val_ptbxl_form', X_val)\n",
    "np.save('y_train_ptbxl_form', y_train)\n",
    "np.save('y_val_ptbxl_form', y_val)"
   ]
  },
  {
   "cell_type": "markdown",
   "metadata": {},
   "source": [
    "# Скачиваем ICBEB через форму PTB-XL"
   ]
  },
  {
   "cell_type": "code",
   "execution_count": 8,
   "metadata": {},
   "outputs": [
    {
     "name": "stderr",
     "output_type": "stream",
     "text": [
      "C:\\Users\\manuk\\AppData\\Local\\Temp\\ipykernel_7528\\110442798.py:7: DeprecationWarning: elementwise comparison failed; this will raise an error in the future.\n",
      "  data.remove(value)\n",
      "C:\\Users\\manuk\\AppData\\Local\\Temp\\ipykernel_7528\\110442798.py:7: DeprecationWarning: elementwise comparison failed; this will raise an error in the future.\n",
      "  data.remove(value)\n",
      "C:\\Users\\manuk\\AppData\\Local\\Temp\\ipykernel_7528\\110442798.py:7: DeprecationWarning: elementwise comparison failed; this will raise an error in the future.\n",
      "  data.remove(value)\n",
      "C:\\Users\\manuk\\AppData\\Local\\Temp\\ipykernel_7528\\110442798.py:7: DeprecationWarning: elementwise comparison failed; this will raise an error in the future.\n",
      "  data.remove(value)\n",
      "C:\\Users\\manuk\\AppData\\Local\\Temp\\ipykernel_7528\\110442798.py:7: DeprecationWarning: elementwise comparison failed; this will raise an error in the future.\n",
      "  data.remove(value)\n",
      "C:\\Users\\manuk\\AppData\\Local\\Temp\\ipykernel_7528\\110442798.py:7: DeprecationWarning: elementwise comparison failed; this will raise an error in the future.\n",
      "  data.remove(value)\n"
     ]
    }
   ],
   "source": [
    "def load_raw_data(df, sampling_rate, path):\n",
    "    if sampling_rate == 100:\n",
    "        data = [wfdb.rdsamp(path+f) for f in df.filename]\n",
    "    data = [signal for signal, meta in data]\n",
    "    for index, value in enumerate(data):\n",
    "      if len(value) < 1000:\n",
    "        data.remove(value)\n",
    "        df = df.drop(index = index)\n",
    "    refLen = 1000 # reference - эталон\n",
    "    for index, value in enumerate(data):\n",
    "      if len(value) > 1000:\n",
    "        data[index] = data[index][:refLen]\n",
    "    data = np.array(data)\n",
    "    return data, df\n",
    "\n",
    "path = 'data/ICBEB/'\n",
    "sampling_rate=100\n",
    "\n",
    "# load and convert annotation data\n",
    "Y = pd.read_csv(path+'icbeb_database.csv', index_col='ecg_id')\n",
    "Y.scp_codes = Y.scp_codes.apply(lambda x: ast.literal_eval(x))\n",
    "\n",
    "# Load raw signal data\n",
    "X, Y = load_raw_data(Y, sampling_rate, path)\n",
    "\n",
    "# Load scp_statements.csv for diagnostic aggregation\n",
    "agg_df = pd.read_csv(path+'scp_statements.csv', index_col=0)\n",
    "agg_df = agg_df[agg_df.form == 1]\n",
    "\n",
    "def aggregate_diagnostic(y_dic):\n",
    "    tmp = []\n",
    "    for key in y_dic.keys():\n",
    "        if key in agg_df.index:\n",
    "            tmp.append(agg_df.loc[key].diagnostic_class)\n",
    "    return list(set(tmp))\n",
    "\n",
    "# Apply diagnostic superclass\n",
    "Y['diagnostic_superclass'] = Y.scp_codes.apply(aggregate_diagnostic)\n",
    "\n",
    "# # Split data into train and test\n",
    "test_fold = 10\n",
    "# Train\n",
    "X_train = X[np.where(Y.strat_fold != test_fold)]\n",
    "y_train = Y[(Y.strat_fold != test_fold)].diagnostic_superclass\n",
    "# Test\n",
    "X_test = X[np.where(Y.strat_fold == test_fold)]\n",
    "y_test = Y[Y.strat_fold == test_fold].diagnostic_superclass"
   ]
  },
  {
   "cell_type": "code",
   "execution_count": 9,
   "metadata": {},
   "outputs": [
    {
     "data": {
      "text/plain": [
       "((6181, 1000, 12), (6181,))"
      ]
     },
     "execution_count": 9,
     "metadata": {},
     "output_type": "execute_result"
    }
   ],
   "source": [
    "X_train.shape, y_train.shape"
   ]
  },
  {
   "cell_type": "code",
   "execution_count": 10,
   "metadata": {},
   "outputs": [
    {
     "data": {
      "text/plain": [
       "array([[ 0.02822609,  0.00672717, -0.02150135, ..., -0.11200486,\n",
       "        -0.59595824, -0.01558333],\n",
       "       [ 0.05623843,  0.02373605, -0.03248586, ..., -0.09599664,\n",
       "        -0.55091871,  0.03543248],\n",
       "       [ 0.06525131,  0.05676969, -0.00847507, ..., -0.05695029,\n",
       "        -0.48688198,  0.10148025],\n",
       "       ...,\n",
       "       [ 0.19612203, -0.16015955, -0.35627225, ...,  0.38222251,\n",
       "         0.2396717 , -0.25792291],\n",
       "       [-0.01297901, -0.48225593, -0.46927696, ..., -0.44072623,\n",
       "        -0.56097927, -0.85331045],\n",
       "       [-0.34466227, -0.59409148, -0.24942707, ..., -0.98916564,\n",
       "        -1.00918153, -1.11767564]])"
      ]
     },
     "execution_count": 10,
     "metadata": {},
     "output_type": "execute_result"
    }
   ],
   "source": [
    "X_train[0]"
   ]
  },
  {
   "cell_type": "code",
   "execution_count": 12,
   "metadata": {},
   "outputs": [
    {
     "data": {
      "text/plain": [
       "ecg_id\n",
       "1          []\n",
       "2          []\n",
       "3          []\n",
       "5          []\n",
       "6          []\n",
       "        ...  \n",
       "6873       []\n",
       "6874    [nan]\n",
       "6875       []\n",
       "6876       []\n",
       "6877       []\n",
       "Name: diagnostic_superclass, Length: 6181, dtype: object"
      ]
     },
     "execution_count": 12,
     "metadata": {},
     "output_type": "execute_result"
    }
   ],
   "source": [
    "y_train"
   ]
  },
  {
   "cell_type": "code",
   "execution_count": 13,
   "metadata": {},
   "outputs": [
    {
     "data": {
      "text/html": [
       "<div>\n",
       "<style scoped>\n",
       "    .dataframe tbody tr th:only-of-type {\n",
       "        vertical-align: middle;\n",
       "    }\n",
       "\n",
       "    .dataframe tbody tr th {\n",
       "        vertical-align: top;\n",
       "    }\n",
       "\n",
       "    .dataframe thead th {\n",
       "        text-align: right;\n",
       "    }\n",
       "</style>\n",
       "<table border=\"1\" class=\"dataframe\">\n",
       "  <thead>\n",
       "    <tr style=\"text-align: right;\">\n",
       "      <th></th>\n",
       "      <th>filename</th>\n",
       "      <th>validation</th>\n",
       "      <th>age</th>\n",
       "      <th>sex</th>\n",
       "      <th>scp_codes</th>\n",
       "      <th>patient_id</th>\n",
       "      <th>quality</th>\n",
       "      <th>strat_fold</th>\n",
       "      <th>diagnostic_superclass</th>\n",
       "    </tr>\n",
       "    <tr>\n",
       "      <th>ecg_id</th>\n",
       "      <th></th>\n",
       "      <th></th>\n",
       "      <th></th>\n",
       "      <th></th>\n",
       "      <th></th>\n",
       "      <th></th>\n",
       "      <th></th>\n",
       "      <th></th>\n",
       "      <th></th>\n",
       "    </tr>\n",
       "  </thead>\n",
       "  <tbody>\n",
       "    <tr>\n",
       "      <th>1</th>\n",
       "      <td>records100/1</td>\n",
       "      <td>False</td>\n",
       "      <td>74.0</td>\n",
       "      <td>1</td>\n",
       "      <td>{'CRBBB': 100}</td>\n",
       "      <td>1</td>\n",
       "      <td>0</td>\n",
       "      <td>7</td>\n",
       "      <td>[]</td>\n",
       "    </tr>\n",
       "    <tr>\n",
       "      <th>2</th>\n",
       "      <td>records100/2</td>\n",
       "      <td>False</td>\n",
       "      <td>49.0</td>\n",
       "      <td>0</td>\n",
       "      <td>{'NORM': 100}</td>\n",
       "      <td>2</td>\n",
       "      <td>0</td>\n",
       "      <td>7</td>\n",
       "      <td>[]</td>\n",
       "    </tr>\n",
       "    <tr>\n",
       "      <th>3</th>\n",
       "      <td>records100/3</td>\n",
       "      <td>False</td>\n",
       "      <td>81.0</td>\n",
       "      <td>0</td>\n",
       "      <td>{'AFIB': 100}</td>\n",
       "      <td>3</td>\n",
       "      <td>0</td>\n",
       "      <td>3</td>\n",
       "      <td>[]</td>\n",
       "    </tr>\n",
       "    <tr>\n",
       "      <th>4</th>\n",
       "      <td>records100/4</td>\n",
       "      <td>False</td>\n",
       "      <td>45.0</td>\n",
       "      <td>1</td>\n",
       "      <td>{'AFIB': 100}</td>\n",
       "      <td>4</td>\n",
       "      <td>0</td>\n",
       "      <td>10</td>\n",
       "      <td>[]</td>\n",
       "    </tr>\n",
       "    <tr>\n",
       "      <th>5</th>\n",
       "      <td>records100/5</td>\n",
       "      <td>False</td>\n",
       "      <td>53.0</td>\n",
       "      <td>1</td>\n",
       "      <td>{'VPC': 100}</td>\n",
       "      <td>5</td>\n",
       "      <td>0</td>\n",
       "      <td>7</td>\n",
       "      <td>[]</td>\n",
       "    </tr>\n",
       "    <tr>\n",
       "      <th>...</th>\n",
       "      <td>...</td>\n",
       "      <td>...</td>\n",
       "      <td>...</td>\n",
       "      <td>...</td>\n",
       "      <td>...</td>\n",
       "      <td>...</td>\n",
       "      <td>...</td>\n",
       "      <td>...</td>\n",
       "      <td>...</td>\n",
       "    </tr>\n",
       "    <tr>\n",
       "      <th>6873</th>\n",
       "      <td>records100/6873</td>\n",
       "      <td>False</td>\n",
       "      <td>80.0</td>\n",
       "      <td>1</td>\n",
       "      <td>{'1AVB': 100}</td>\n",
       "      <td>6873</td>\n",
       "      <td>0</td>\n",
       "      <td>5</td>\n",
       "      <td>[]</td>\n",
       "    </tr>\n",
       "    <tr>\n",
       "      <th>6874</th>\n",
       "      <td>records100/6874</td>\n",
       "      <td>False</td>\n",
       "      <td>62.0</td>\n",
       "      <td>0</td>\n",
       "      <td>{'STD_': 100}</td>\n",
       "      <td>6874</td>\n",
       "      <td>0</td>\n",
       "      <td>1</td>\n",
       "      <td>[nan]</td>\n",
       "    </tr>\n",
       "    <tr>\n",
       "      <th>6875</th>\n",
       "      <td>records100/6875</td>\n",
       "      <td>False</td>\n",
       "      <td>78.0</td>\n",
       "      <td>1</td>\n",
       "      <td>{'CLBBB': 100}</td>\n",
       "      <td>6875</td>\n",
       "      <td>0</td>\n",
       "      <td>5</td>\n",
       "      <td>[]</td>\n",
       "    </tr>\n",
       "    <tr>\n",
       "      <th>6876</th>\n",
       "      <td>records100/6876</td>\n",
       "      <td>False</td>\n",
       "      <td>-1.0</td>\n",
       "      <td>0</td>\n",
       "      <td>{'AFIB': 100}</td>\n",
       "      <td>6876</td>\n",
       "      <td>0</td>\n",
       "      <td>6</td>\n",
       "      <td>[]</td>\n",
       "    </tr>\n",
       "    <tr>\n",
       "      <th>6877</th>\n",
       "      <td>records100/6877</td>\n",
       "      <td>False</td>\n",
       "      <td>71.0</td>\n",
       "      <td>0</td>\n",
       "      <td>{'VPC': 100}</td>\n",
       "      <td>6877</td>\n",
       "      <td>0</td>\n",
       "      <td>1</td>\n",
       "      <td>[]</td>\n",
       "    </tr>\n",
       "  </tbody>\n",
       "</table>\n",
       "<p>6871 rows × 9 columns</p>\n",
       "</div>"
      ],
      "text/plain": [
       "               filename  validation   age  sex       scp_codes  patient_id  \\\n",
       "ecg_id                                                                       \n",
       "1          records100/1       False  74.0    1  {'CRBBB': 100}           1   \n",
       "2          records100/2       False  49.0    0   {'NORM': 100}           2   \n",
       "3          records100/3       False  81.0    0   {'AFIB': 100}           3   \n",
       "4          records100/4       False  45.0    1   {'AFIB': 100}           4   \n",
       "5          records100/5       False  53.0    1    {'VPC': 100}           5   \n",
       "...                 ...         ...   ...  ...             ...         ...   \n",
       "6873    records100/6873       False  80.0    1   {'1AVB': 100}        6873   \n",
       "6874    records100/6874       False  62.0    0   {'STD_': 100}        6874   \n",
       "6875    records100/6875       False  78.0    1  {'CLBBB': 100}        6875   \n",
       "6876    records100/6876       False  -1.0    0   {'AFIB': 100}        6876   \n",
       "6877    records100/6877       False  71.0    0    {'VPC': 100}        6877   \n",
       "\n",
       "        quality  strat_fold diagnostic_superclass  \n",
       "ecg_id                                             \n",
       "1             0           7                    []  \n",
       "2             0           7                    []  \n",
       "3             0           3                    []  \n",
       "4             0          10                    []  \n",
       "5             0           7                    []  \n",
       "...         ...         ...                   ...  \n",
       "6873          0           5                    []  \n",
       "6874          0           1                 [nan]  \n",
       "6875          0           5                    []  \n",
       "6876          0           6                    []  \n",
       "6877          0           1                    []  \n",
       "\n",
       "[6871 rows x 9 columns]"
      ]
     },
     "execution_count": 13,
     "metadata": {},
     "output_type": "execute_result"
    }
   ],
   "source": [
    "Y"
   ]
  },
  {
   "cell_type": "code",
   "execution_count": 15,
   "metadata": {},
   "outputs": [
    {
     "name": "stdout",
     "output_type": "stream",
     "text": [
      "<class 'numpy.ndarray'>\n",
      "6181\n"
     ]
    }
   ],
   "source": [
    "# Создать Ndarray Numpy копию Series Pandas.\n",
    "y_trainNp = y_train.to_numpy()\n",
    "print(type(y_trainNp))\n",
    "print(y_trainNp.size)"
   ]
  },
  {
   "cell_type": "code",
   "execution_count": 16,
   "metadata": {},
   "outputs": [
    {
     "name": "stdout",
     "output_type": "stream",
     "text": [
      "[list([]) list([nan])] \n",
      " unique.size:  2\n",
      "[4658 1523]\n"
     ]
    }
   ],
   "source": [
    "# Выделим уникальные значения y_train_np и посчитаем их количество.\n",
    "unique, counts = np.unique(y_trainNp, return_counts = True)\n",
    "print(unique, '\\n', \"unique.size: \", unique.size)\n",
    "print(counts)"
   ]
  },
  {
   "cell_type": "code",
   "execution_count": 5,
   "metadata": {},
   "outputs": [
    {
     "data": {
      "text/html": [
       "<div>\n",
       "<style scoped>\n",
       "    .dataframe tbody tr th:only-of-type {\n",
       "        vertical-align: middle;\n",
       "    }\n",
       "\n",
       "    .dataframe tbody tr th {\n",
       "        vertical-align: top;\n",
       "    }\n",
       "\n",
       "    .dataframe thead th {\n",
       "        text-align: right;\n",
       "    }\n",
       "</style>\n",
       "<table border=\"1\" class=\"dataframe\">\n",
       "  <thead>\n",
       "    <tr style=\"text-align: right;\">\n",
       "      <th></th>\n",
       "      <th>AUC</th>\n",
       "      <th>F2</th>\n",
       "      <th>G2</th>\n",
       "    </tr>\n",
       "  </thead>\n",
       "  <tbody>\n",
       "    <tr>\n",
       "      <th>lstm_ICBEB_form</th>\n",
       "      <td>0.792765</td>\n",
       "      <td>0.498645</td>\n",
       "      <td>0.281553</td>\n",
       "    </tr>\n",
       "    <tr>\n",
       "      <th>lstm_bidir_ICBEB_form</th>\n",
       "      <td>0.895261</td>\n",
       "      <td>0.747274</td>\n",
       "      <td>0.512097</td>\n",
       "    </tr>\n",
       "    <tr>\n",
       "      <th>lstm_ptbxl_form</th>\n",
       "      <td>0.804124</td>\n",
       "      <td>0.041219</td>\n",
       "      <td>0.000000</td>\n",
       "    </tr>\n",
       "    <tr>\n",
       "      <th>lstm_bidir_ptbxl_form</th>\n",
       "      <td>0.802981</td>\n",
       "      <td>0.041219</td>\n",
       "      <td>0.000000</td>\n",
       "    </tr>\n",
       "    <tr>\n",
       "      <th>lstm_finetuning_form</th>\n",
       "      <td>0.691744</td>\n",
       "      <td>0.279402</td>\n",
       "      <td>0.000000</td>\n",
       "    </tr>\n",
       "  </tbody>\n",
       "</table>\n",
       "</div>"
      ],
      "text/plain": [
       "                            AUC        F2        G2\n",
       "lstm_ICBEB_form        0.792765  0.498645  0.281553\n",
       "lstm_bidir_ICBEB_form  0.895261  0.747274  0.512097\n",
       "lstm_ptbxl_form        0.804124  0.041219  0.000000\n",
       "lstm_bidir_ptbxl_form  0.802981  0.041219  0.000000\n",
       "lstm_finetuning_form   0.691744  0.279402  0.000000"
      ]
     },
     "execution_count": 5,
     "metadata": {},
     "output_type": "execute_result"
    }
   ],
   "source": [
    "import pandas as pd\n",
    "table = pd.read_csv('table_res_finetuning.csv', index_col=0)\n",
    "table"
   ]
  }
 ],
 "metadata": {
  "kernelspec": {
   "display_name": "Python 3 (ipykernel)",
   "language": "python",
   "name": "python3"
  },
  "language_info": {
   "codemirror_mode": {
    "name": "ipython",
    "version": 3
   },
   "file_extension": ".py",
   "mimetype": "text/x-python",
   "name": "python",
   "nbconvert_exporter": "python",
   "pygments_lexer": "ipython3",
   "version": "3.9.10"
  },
  "vscode": {
   "interpreter": {
    "hash": "7def36fe8bd5fec4bb5af778b23511c8ac7b24717e5ef7201919a5b3f553865a"
   }
  }
 },
 "nbformat": 4,
 "nbformat_minor": 2
}
