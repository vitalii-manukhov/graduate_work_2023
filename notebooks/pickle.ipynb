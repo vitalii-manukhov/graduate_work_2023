{
 "cells": [
  {
   "cell_type": "code",
   "execution_count": null,
   "id": "bcf22253",
   "metadata": {},
   "outputs": [],
   "source": [
    "import pickle"
   ]
  },
  {
   "cell_type": "code",
   "execution_count": 1,
   "id": "36586fbd",
   "metadata": {},
   "outputs": [],
   "source": [
    "# Сериализация (Запаковка)\n",
    "list_ = ['a','b','c']\n",
    "\n",
    "with open('abc.pkl', 'wb') as pickle_out: # w (write) - запись, b (binary) - двоичный (двоичные данные) \n",
    "    pickle.dump(list_, pickle_out)"
   ]
  },
  {
   "cell_type": "code",
   "execution_count": 2,
   "id": "4354f930",
   "metadata": {},
   "outputs": [
    {
     "data": {
      "text/plain": [
       "['a', 'b', 'c']"
      ]
     },
     "execution_count": 2,
     "metadata": {},
     "output_type": "execute_result"
    }
   ],
   "source": [
    "# Десериализация (Распаковка)\n",
    "with open('abc.pkl', 'rb') as pickle_in: # r (read) - чтение\n",
    "    list_unp = pickle.load(pickle_in)\n",
    "\n",
    "list_unp"
   ]
  },
  {
   "cell_type": "markdown",
   "id": "4885ba2d",
   "metadata": {},
   "source": [
    "Сериализация класса"
   ]
  },
  {
   "cell_type": "code",
   "execution_count": 5,
   "id": "c1740305",
   "metadata": {},
   "outputs": [
    {
     "data": {
      "text/plain": [
       "'sugar'"
      ]
     },
     "execution_count": 5,
     "metadata": {},
     "output_type": "execute_result"
    }
   ],
   "source": [
    "class home():\n",
    "    def __init__(self):\n",
    "        self.material = ''\n",
    "    def set_material(self, material):\n",
    "        self.material = material\n",
    "\n",
    "home_sweet_home = home()\n",
    "home_sweet_home.set_material('sugar')\n",
    "\n",
    "with open('class_home.pkl', 'wb') as pickle_out:\n",
    "    pickle.dump(home_sweet_home, pickle_out)\n",
    "    \n",
    "with open('class_home.pkl', 'rb') as pickle_in:\n",
    "    unp_home = pickle.load(pickle_in)\n",
    "    \n",
    "unp_home.material"
   ]
  }
 ],
 "metadata": {
  "kernelspec": {
   "display_name": "Python 3 (ipykernel)",
   "language": "python",
   "name": "python3"
  },
  "language_info": {
   "codemirror_mode": {
    "name": "ipython",
    "version": 3
   },
   "file_extension": ".py",
   "mimetype": "text/x-python",
   "name": "python",
   "nbconvert_exporter": "python",
   "pygments_lexer": "ipython3",
   "version": "3.9.10"
  }
 },
 "nbformat": 4,
 "nbformat_minor": 5
}
